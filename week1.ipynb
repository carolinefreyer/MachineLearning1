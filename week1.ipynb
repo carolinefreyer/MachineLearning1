{
 "cells": [
  {
   "cell_type": "code",
   "execution_count": 1,
   "metadata": {},
   "outputs": [],
   "source": [
    "import prtools as pr\n",
    "import numpy as np\n",
    "import matplotlib.pyplot as plt"
   ]
  },
  {
   "cell_type": "code",
   "execution_count": 2,
   "metadata": {},
   "outputs": [],
   "source": [
    "# Excercise 1.6"
   ]
  },
  {
   "cell_type": "code",
   "execution_count": 3,
   "metadata": {},
   "outputs": [
    {
     "data": {
      "text/plain": [
       "array([[0.74218833, 0.52165876, 0.02673115],\n",
       "       [0.17827385, 0.06471719, 0.10037667],\n",
       "       [0.14636943, 0.12627943, 0.92146158],\n",
       "       [0.95347318, 0.32566394, 0.45672652],\n",
       "       [0.33991915, 0.38582767, 0.52031377],\n",
       "       [0.46180707, 0.5098294 , 0.39518076],\n",
       "       [0.66200397, 0.87508086, 0.97386303],\n",
       "       [0.49904105, 0.82677651, 0.96359108],\n",
       "       [0.27146147, 0.05195581, 0.97098906],\n",
       "       [0.3717326 , 0.76976966, 0.08348015]])"
      ]
     },
     "execution_count": 3,
     "metadata": {},
     "output_type": "execute_result"
    }
   ],
   "source": [
    "x = np.random.rand(10,3)\n",
    "x"
   ]
  },
  {
   "cell_type": "code",
   "execution_count": 4,
   "metadata": {},
   "outputs": [],
   "source": [
    "mean_x = np.mean(x)\n",
    "std_x = np.std(x)\n",
    "mean_x_a0 = np.mean(x, axis = 0);\n",
    "mean_x_a1 = np.mean(x, axis = 1);"
   ]
  },
  {
   "cell_type": "code",
   "execution_count": 5,
   "metadata": {},
   "outputs": [
    {
     "data": {
      "text/plain": [
       "0.48321810217009115"
      ]
     },
     "execution_count": 5,
     "metadata": {},
     "output_type": "execute_result"
    }
   ],
   "source": [
    "# The mean of all the data points in x\n",
    "mean_x"
   ]
  },
  {
   "cell_type": "code",
   "execution_count": 6,
   "metadata": {},
   "outputs": [
    {
     "data": {
      "text/plain": [
       "0.31144322348270553"
      ]
     },
     "execution_count": 6,
     "metadata": {},
     "output_type": "execute_result"
    }
   ],
   "source": [
    "# The std of all the data points in x\n",
    "std_x"
   ]
  },
  {
   "cell_type": "code",
   "execution_count": 7,
   "metadata": {},
   "outputs": [
    {
     "data": {
      "text/plain": [
       "array([0.46262701, 0.44575592, 0.54127138])"
      ]
     },
     "execution_count": 7,
     "metadata": {},
     "output_type": "execute_result"
    }
   ],
   "source": [
    "# The means of the columms of x\n",
    "mean_x_a0"
   ]
  },
  {
   "cell_type": "code",
   "execution_count": 8,
   "metadata": {},
   "outputs": [
    {
     "data": {
      "text/plain": [
       "array([0.43019275, 0.1144559 , 0.39803681, 0.57862121, 0.41535353,\n",
       "       0.45560574, 0.83698262, 0.76313621, 0.43146878, 0.40832747])"
      ]
     },
     "execution_count": 8,
     "metadata": {},
     "output_type": "execute_result"
    }
   ],
   "source": [
    "# The means of the rows of x\n",
    "mean_x_a1"
   ]
  },
  {
   "cell_type": "code",
   "execution_count": 9,
   "metadata": {},
   "outputs": [],
   "source": [
    "# Exercise 1.7"
   ]
  },
  {
   "cell_type": "code",
   "execution_count": 10,
   "metadata": {},
   "outputs": [
    {
     "data": {
      "text/plain": [
       "<matplotlib.collections.PathCollection at 0x7fb028a13610>"
      ]
     },
     "execution_count": 10,
     "metadata": {},
     "output_type": "execute_result"
    },
    {
     "data": {
      "image/png": "[encoded data removed]",
      "text/plain": [
       "<Figure size 432x288 with 1 Axes>"
      ]
     },
     "metadata": {
      "needs_background": "light"
     },
     "output_type": "display_data"
    }
   ],
   "source": [
    "plt.scatter(x[:,0], x[:,1])"
   ]
  },
  {
   "cell_type": "code",
   "execution_count": 13,
   "metadata": {},
   "outputs": [],
   "source": [
    "# Exercise 1.8"
   ]
  },
  {
   "cell_type": "code",
   "execution_count": 14,
   "metadata": {},
   "outputs": [],
   "source": [
    "lab = np.array([1,1,1,1,2,2,2,2,2,2]).T\n",
    "a = pr.prdataset(x,lab)"
   ]
  },
  {
   "cell_type": "code",
   "execution_count": 16,
   "metadata": {},
   "outputs": [
    {
     "name": "stdout",
     "output_type": "stream",
     "text": [
      "10 by 3 prdataset with 2 classes: [4 6]\n"
     ]
    }
   ],
   "source": [
    "print(a)"
   ]
  },
  {
   "cell_type": "code",
   "execution_count": null,
   "metadata": {},
   "outputs": [],
   "source": [
    "# Excercise 1.9"
   ]
  },
  {
   "cell_type": "code",
   "execution_count": 23,
   "metadata": {},
   "outputs": [
    {
     "name": "stdout",
     "output_type": "stream",
     "text": [
      "Boomerangs 10 by 3 prdataset with 2 classes: [6 4]\n"
     ]
    }
   ],
   "source": [
    "boomerangs = pr.boomerangs(10)\n",
    "print(boomerangs)"
   ]
  },
  {
   "cell_type": "code",
   "execution_count": 24,
   "metadata": {},
   "outputs": [
    {
     "data": {
      "image/png": "[encoded data removed]",
      "text/plain": [
       "<Figure size 432x288 with 1 Axes>"
      ]
     },
     "metadata": {
      "needs_background": "light"
     },
     "output_type": "display_data"
    }
   ],
   "source": [
    "pr.scatterd(a)"
   ]
  },
  {
   "cell_type": "code",
   "execution_count": 25,
   "metadata": {},
   "outputs": [
    {
     "data": {
      "image/png": "[encoded data removed]",
      "text/plain": [
       "<Figure size 432x288 with 1 Axes>"
      ]
     },
     "metadata": {
      "needs_background": "light"
     },
     "output_type": "display_data"
    }
   ],
   "source": [
    "pr.scatterd(a[:,[1,2]])"
   ]
  },
  {
   "cell_type": "code",
   "execution_count": 26,
   "metadata": {},
   "outputs": [
    {
     "name": "stdout",
     "output_type": "stream",
     "text": [
      "[[ 2.94921904 -2.41845788]\n",
      " [-2.81554294 -5.10182154]\n",
      " [ 5.04787459  1.94961696]\n",
      " [ 5.64649234  1.50360462]\n",
      " [ 3.63185688  0.5507432 ]\n",
      " [ 3.8532483  -0.72822959]\n",
      " [-3.43865249 -5.2826849 ]\n",
      " [ 1.69957187 -3.77422277]\n",
      " [ 2.85009822  2.86569745]\n",
      " [ 3.4233606   5.02672989]\n",
      " [ 5.9355114   0.90568649]\n",
      " [ 2.96895189 -2.95053868]\n",
      " [ 3.97671734 -1.54925566]\n",
      " [ 1.31289965 -4.70230728]\n",
      " [-1.48040424 -4.36306625]\n",
      " [ 4.54774625  1.81624604]\n",
      " [ 0.70722155 -5.22596996]\n",
      " [ 3.84061463 -2.52001034]\n",
      " [ 6.71040941 -1.29432407]\n",
      " [ 3.77096207 -2.37938328]\n",
      " [ 4.6885851  -1.33771172]\n",
      " [ 3.80621365  2.1467738 ]\n",
      " [ 3.87439108  1.90200692]\n",
      " [-4.81380627 -1.15698159]\n",
      " [ 6.00403754 -0.04522538]\n",
      " [ 2.14205424  5.84589668]\n",
      " [-0.97802873 -4.69029931]\n",
      " [ 3.50842591 -3.63770757]\n",
      " [ 4.20039756  3.09067553]\n",
      " [ 4.0219978  -2.79566292]\n",
      " [ 3.1267449   1.7618063 ]\n",
      " [ 2.71626158 -3.13575735]\n",
      " [-2.21654158 -5.80805891]\n",
      " [-1.80213835 -3.19542449]\n",
      " [ 2.06869216 -5.29517209]\n",
      " [ 4.13178274 -1.0772395 ]\n",
      " [-3.74657555 -1.84407223]\n",
      " [ 3.9431952  -1.34260119]\n",
      " [ 0.09685033 -5.65998693]\n",
      " [ 1.27573919 -4.07525359]\n",
      " [-3.31196971 -6.46546613]\n",
      " [-0.73725736 -5.08774192]\n",
      " [ 1.93906244  3.77085005]\n",
      " [ 2.68645895 -3.75334135]\n",
      " [-3.17649853 -4.29629127]\n",
      " [ 3.48561466  1.55907932]\n",
      " [ 3.7579436  -1.01424149]\n",
      " [ 5.76157866 -2.22518996]\n",
      " [ 3.3435822  -4.19840662]\n",
      " [-3.02042875 -2.71675469]\n",
      " [-2.09522546 -1.47482301]\n",
      " [-6.4942833  -7.96175628]\n",
      " [-5.92725066 -8.61102163]\n",
      " [-7.57252423 -5.78673556]\n",
      " [ 0.44685697 -0.90355251]\n",
      " [-9.10283679 -4.70967586]\n",
      " [-0.74521057 -0.76344221]\n",
      " [ 0.14318386 -2.19791411]\n",
      " [-7.09595075  0.94383251]\n",
      " [-8.51584052 -3.52610447]\n",
      " [-5.97356138  2.87647847]\n",
      " [-6.48431368  1.56893884]\n",
      " [-5.82307546 -5.16596957]\n",
      " [-2.55379239  1.9235731 ]\n",
      " [-3.90181794  0.70841273]\n",
      " [-7.51713104 -6.66771075]\n",
      " [-2.80556493  1.47269213]\n",
      " [-1.85672825  0.27081944]\n",
      " [-5.17885055  1.32289541]\n",
      " [-6.972627   -5.36378877]\n",
      " [ 1.14172533 -2.48801874]\n",
      " [-3.92400439  2.86722485]\n",
      " [-7.2121117   0.1383104 ]\n",
      " [-8.53152294 -1.09396538]\n",
      " [-3.44803357  1.56853198]\n",
      " [-8.03057744 -6.93948682]\n",
      " [-8.01450158 -6.63059057]\n",
      " [-2.34246061  2.54744021]\n",
      " [ 0.53204364  0.12914638]\n",
      " [-8.26760159 -5.87511452]\n",
      " [-6.45072896 -7.70651393]\n",
      " [-9.41529341 -1.89748887]\n",
      " [-8.01625802 -0.04189025]\n",
      " [-8.1697404  -5.98486013]\n",
      " [-7.98793366 -5.72947669]\n",
      " [-5.42480247  1.17345626]\n",
      " [-8.01604268 -2.00267937]\n",
      " [-3.61120142  2.29184515]\n",
      " [-7.87427687 -7.52187619]\n",
      " [-6.29291442  1.45279812]\n",
      " [-7.64457084  0.62744427]\n",
      " [-6.45522691  0.80252395]\n",
      " [-1.74414673  0.54993157]\n",
      " [-1.34150893  1.85940204]\n",
      " [-6.76071168  0.19044966]\n",
      " [-7.99283609 -2.66651886]\n",
      " [-2.18217204  1.93676773]\n",
      " [-8.79799498 -1.26366224]\n",
      " [-6.76000319  0.08575304]\n",
      " [-5.08694926  1.2126606 ]]\n"
     ]
    }
   ],
   "source": [
    "a = pr.gendatb()\n",
    "b = +a \n",
    "print(b)"
   ]
  },
  {
   "cell_type": "code",
   "execution_count": 29,
   "metadata": {},
   "outputs": [
    {
     "name": "stdout",
     "output_type": "stream",
     "text": [
      "[[ 2.94921904 -2.41845788]\n",
      " [-2.81554294 -5.10182154]\n",
      " [ 5.04787459  1.94961696]\n",
      " [ 5.64649234  1.50360462]\n",
      " [ 3.63185688  0.5507432 ]\n",
      " [ 3.8532483  -0.72822959]\n",
      " [-3.43865249 -5.2826849 ]\n",
      " [ 1.69957187 -3.77422277]\n",
      " [ 2.85009822  2.86569745]\n",
      " [ 3.4233606   5.02672989]\n",
      " [ 5.9355114   0.90568649]\n",
      " [ 2.96895189 -2.95053868]\n",
      " [ 3.97671734 -1.54925566]\n",
      " [ 1.31289965 -4.70230728]\n",
      " [-1.48040424 -4.36306625]\n",
      " [ 4.54774625  1.81624604]\n",
      " [ 0.70722155 -5.22596996]\n",
      " [ 3.84061463 -2.52001034]\n",
      " [ 6.71040941 -1.29432407]\n",
      " [ 3.77096207 -2.37938328]\n",
      " [ 4.6885851  -1.33771172]\n",
      " [ 3.80621365  2.1467738 ]\n",
      " [ 3.87439108  1.90200692]\n",
      " [-4.81380627 -1.15698159]\n",
      " [ 6.00403754 -0.04522538]\n",
      " [ 2.14205424  5.84589668]\n",
      " [-0.97802873 -4.69029931]\n",
      " [ 3.50842591 -3.63770757]\n",
      " [ 4.20039756  3.09067553]\n",
      " [ 4.0219978  -2.79566292]\n",
      " [ 3.1267449   1.7618063 ]\n",
      " [ 2.71626158 -3.13575735]\n",
      " [-2.21654158 -5.80805891]\n",
      " [-1.80213835 -3.19542449]\n",
      " [ 2.06869216 -5.29517209]\n",
      " [ 4.13178274 -1.0772395 ]\n",
      " [-3.74657555 -1.84407223]\n",
      " [ 3.9431952  -1.34260119]\n",
      " [ 0.09685033 -5.65998693]\n",
      " [ 1.27573919 -4.07525359]\n",
      " [-3.31196971 -6.46546613]\n",
      " [-0.73725736 -5.08774192]\n",
      " [ 1.93906244  3.77085005]\n",
      " [ 2.68645895 -3.75334135]\n",
      " [-3.17649853 -4.29629127]\n",
      " [ 3.48561466  1.55907932]\n",
      " [ 3.7579436  -1.01424149]\n",
      " [ 5.76157866 -2.22518996]\n",
      " [ 3.3435822  -4.19840662]\n",
      " [-3.02042875 -2.71675469]\n",
      " [-2.09522546 -1.47482301]\n",
      " [-6.4942833  -7.96175628]\n",
      " [-5.92725066 -8.61102163]\n",
      " [-7.57252423 -5.78673556]\n",
      " [ 0.44685697 -0.90355251]\n",
      " [-9.10283679 -4.70967586]\n",
      " [-0.74521057 -0.76344221]\n",
      " [ 0.14318386 -2.19791411]\n",
      " [-7.09595075  0.94383251]\n",
      " [-8.51584052 -3.52610447]\n",
      " [-5.97356138  2.87647847]\n",
      " [-6.48431368  1.56893884]\n",
      " [-5.82307546 -5.16596957]\n",
      " [-2.55379239  1.9235731 ]\n",
      " [-3.90181794  0.70841273]\n",
      " [-7.51713104 -6.66771075]\n",
      " [-2.80556493  1.47269213]\n",
      " [-1.85672825  0.27081944]\n",
      " [-5.17885055  1.32289541]\n",
      " [-6.972627   -5.36378877]\n",
      " [ 1.14172533 -2.48801874]\n",
      " [-3.92400439  2.86722485]\n",
      " [-7.2121117   0.1383104 ]\n",
      " [-8.53152294 -1.09396538]\n",
      " [-3.44803357  1.56853198]\n",
      " [-8.03057744 -6.93948682]\n",
      " [-8.01450158 -6.63059057]\n",
      " [-2.34246061  2.54744021]\n",
      " [ 0.53204364  0.12914638]\n",
      " [-8.26760159 -5.87511452]\n",
      " [-6.45072896 -7.70651393]\n",
      " [-9.41529341 -1.89748887]\n",
      " [-8.01625802 -0.04189025]\n",
      " [-8.1697404  -5.98486013]\n",
      " [-7.98793366 -5.72947669]\n",
      " [-5.42480247  1.17345626]\n",
      " [-8.01604268 -2.00267937]\n",
      " [-3.61120142  2.29184515]\n",
      " [-7.87427687 -7.52187619]\n",
      " [-6.29291442  1.45279812]\n",
      " [-7.64457084  0.62744427]\n",
      " [-6.45522691  0.80252395]\n",
      " [-1.74414673  0.54993157]\n",
      " [-1.34150893  1.85940204]\n",
      " [-6.76071168  0.19044966]\n",
      " [-7.99283609 -2.66651886]\n",
      " [-2.18217204  1.93676773]\n",
      " [-8.79799498 -1.26366224]\n",
      " [-6.76000319  0.08575304]\n",
      " [-5.08694926  1.2126606 ]]\n"
     ]
    }
   ],
   "source": [
    "  "
   ]
  },
  {
   "cell_type": "code",
   "execution_count": null,
   "metadata": {},
   "outputs": [],
   "source": []
  }
 ],
 "metadata": {
  "kernelspec": {
   "display_name": "Python 3",
   "language": "python",
   "name": "python3"
  },
  "language_info": {
   "codemirror_mode": {
    "name": "ipython",
    "version": 3
   },
   "file_extension": ".py",
   "mimetype": "text/x-python",
   "name": "python",
   "nbconvert_exporter": "python",
   "pygments_lexer": "ipython3",
   "version": "3.8.3"
  }
 },
 "nbformat": 4,
 "nbformat_minor": 4
}
